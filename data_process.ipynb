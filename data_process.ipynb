{
  "metadata": {
    "kernelspec": {
      "name": "python",
      "display_name": "Python (Pyodide)",
      "language": "python"
    },
    "language_info": {
      "codemirror_mode": {
        "name": "python",
        "version": 3
      },
      "file_extension": ".py",
      "mimetype": "text/x-python",
      "name": "python",
      "nbconvert_exporter": "python",
      "pygments_lexer": "ipython3",
      "version": "3.8"
    }
  },
  "nbformat_minor": 4,
  "nbformat": 4,
  "cells": [
    {
      "cell_type": "markdown",
      "source": "# Lire le fichier",
      "metadata": {}
    },
    {
      "cell_type": "code",
      "source": "FILE_PATH:str = \"FAOSTAT_data_en_11-10-2022.csv\"",
      "metadata": {
        "trusted": true
      },
      "outputs": [],
      "execution_count": 20
    },
    {
      "cell_type": "markdown",
      "source": "## From scratch",
      "metadata": {}
    },
    {
      "cell_type": "markdown",
      "source": "En utilisant with pour un close implicite",
      "metadata": {}
    },
    {
      "cell_type": "code",
      "source": "file = open(FILE_PATH, \"r\")",
      "metadata": {
        "trusted": true
      },
      "outputs": [],
      "execution_count": 22
    },
    {
      "cell_type": "markdown",
      "source": "## With pandas",
      "metadata": {}
    },
    {
      "cell_type": "code",
      "source": "import pandas as pd\n\ndf = pd.read_csv(FILE_PATH)\nfirst_column_values = df.columns\nfirst_column_values",
      "metadata": {
        "trusted": true
      },
      "outputs": [
        {
          "execution_count": 34,
          "output_type": "execute_result",
          "data": {
            "text/plain": "Index(['Domain Code', 'Domain', 'Area Code (M49)', 'Area', 'Element Code',\n       'Element', 'Item Code (FAO)', 'Item', 'Year Code', 'Year', 'Unit',\n       'Value', 'Flag', 'Flag Description'],\n      dtype='object')"
          },
          "metadata": {}
        }
      ],
      "execution_count": 34
    },
    {
      "cell_type": "markdown",
      "source": "### Afficher le nom des colonnes",
      "metadata": {}
    },
    {
      "cell_type": "code",
      "source": "first_column_values = df.columns\nfirst_column_values",
      "metadata": {
        "trusted": true
      },
      "outputs": [
        {
          "execution_count": 34,
          "output_type": "execute_result",
          "data": {
            "text/plain": "Index(['Domain Code', 'Domain', 'Area Code (M49)', 'Area', 'Element Code',\n       'Element', 'Item Code (FAO)', 'Item', 'Year Code', 'Year', 'Unit',\n       'Value', 'Flag', 'Flag Description'],\n      dtype='object')"
          },
          "metadata": {}
        }
      ],
      "execution_count": 34
    },
    {
      "cell_type": "markdown",
      "source": "### Afficher la valeur \"Value\"",
      "metadata": {}
    },
    {
      "cell_type": "code",
      "source": "list(first_column_values)[11]\n",
      "metadata": {
        "trusted": true
      },
      "outputs": [
        {
          "execution_count": 36,
          "output_type": "execute_result",
          "data": {
            "text/plain": "'Value'"
          },
          "metadata": {}
        }
      ],
      "execution_count": 36
    },
    {
      "cell_type": "markdown",
      "source": "### Tracer un graphe des données de Values",
      "metadata": {}
    },
    {
      "cell_type": "code",
      "source": "import matplotlib.pyplot as plt\n\nplt.rcParams[\"figure.figsize\"] = [7.00, 3.50]\nplt.rcParams[\"figure.autolayout\"] = True\ncolumns = [\"Value\"]\ndf2 = pd.read_csv(FILE_PATH, usecols=columns)\nplt.plot(df2.Value)\nplt.show()",
      "metadata": {
        "trusted": true
      },
      "outputs": [
        {
          "output_type": "display_data",
          "data": {
            "text/plain": "<Figure size 700x350 with 1 Axes>",
            "image/png": "[encoded data removed]"
          },
          "metadata": {}
        }
      ],
      "execution_count": 50
    },
    {
      "cell_type": "markdown",
      "source": "### La moyenne de chaque année",
      "metadata": {}
    },
    {
      "cell_type": "code",
      "source": "type(df)\nmoyenne_math = df['Value'].mean()\ndf.loc[df[\"Value\"] == '1961', ''].mean()",
      "metadata": {
        "trusted": true
      },
      "outputs": [
        {
          "execution_count": 72,
          "output_type": "execute_result",
          "data": {
            "text/plain": "nan"
          },
          "metadata": {}
        }
      ],
      "execution_count": 72
    },
    {
      "cell_type": "markdown",
      "source": "# Afficher le nom des colonnes",
      "metadata": {}
    },
    {
      "cell_type": "code",
      "source": "brute_columns_name = file.readline()\nbrute_columns_name",
      "metadata": {
        "trusted": true
      },
      "outputs": [
        {
          "execution_count": 19,
          "output_type": "execute_result",
          "data": {
            "text/plain": "'\"QCL\",\"Crops and livestock products\",\"686\",\"Senegal\",\"5312\",\"Area harvested\",\"367\",\"Asparagus\",\"1996\",\"1996\",\"ha\",\"\",\"M\",\"Missing value (data cannot exist, not applicable)\"\\n'"
          },
          "metadata": {}
        }
      ],
      "execution_count": 19
    },
    {
      "cell_type": "code",
      "source": "arr_columns_name = columns_name.split(\",\")\nremove_quots =  [column_name.replace('\"', \"\") for column_name in arr_columns_name]\nprint(remove_quots)\n",
      "metadata": {
        "trusted": true
      },
      "outputs": [
        {
          "name": "stdout",
          "text": "['QCL', 'Crops and livestock products', '686', 'Senegal', '5312', 'Area harvested', '367', 'Asparagus', '1995', '1995', 'ha', '', 'M', 'Missing value (data cannot exist', ' not applicable)\\n']\n",
          "output_type": "stream"
        }
      ],
      "execution_count": 18
    }
  ]
}
